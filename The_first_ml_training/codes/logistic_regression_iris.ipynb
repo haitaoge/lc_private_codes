{
 "cells": [
  {
   "cell_type": "code",
   "execution_count": null,
   "metadata": {},
   "outputs": [],
   "source": [
    "# 导入相应的包\n",
    "import numpy as np\n",
    "import matplotlib.pyplot as plt\n",
    "from sklearn.datasets import load_iris\n",
    "from sklearn.model_selection import train_test_split\n",
    "from sklearn.linear_model import LogisticRegression\n"
   ]
  },
  {
   "cell_type": "code",
   "execution_count": null,
   "metadata": {},
   "outputs": [],
   "source": [
    "# 使用sklearn自带的鸢尾花数据\n",
    "iris_dataset=load_iris()\n",
    "x = iris_dataset[\"data\"]\n",
    "y = iris_dataset[\"target\"]\n",
    "x = x[y!=2,:]\n",
    "y = y[y!=2]\n",
    "n_sample = 100"
   ]
  },
  {
   "cell_type": "code",
   "execution_count": null,
   "metadata": {},
   "outputs": [],
   "source": [
    "# 拆分训练集和测试集\n",
    "X_train, X_test, y_train, y_test = train_test_split(x, y, random_state=0)"
   ]
  },
  {
   "cell_type": "code",
   "execution_count": 1,
   "metadata": {},
   "outputs": [
    {
     "ename": "SyntaxError",
     "evalue": "invalid syntax (<ipython-input-1-ac337a8889d8>, line 2)",
     "output_type": "error",
     "traceback": [
      "\u001b[1;36m  File \u001b[1;32m\"<ipython-input-1-ac337a8889d8>\"\u001b[1;36m, line \u001b[1;32m2\u001b[0m\n\u001b[1;33m    alpha = ? # 学习率\u001b[0m\n\u001b[1;37m            ^\u001b[0m\n\u001b[1;31mSyntaxError\u001b[0m\u001b[1;31m:\u001b[0m invalid syntax\n"
     ]
    }
   ],
   "source": [
    "#%% 开始机器学习：自己手动实现\n",
    "alpha = ? # 学习率，每一步走多远\n",
    "max_cycles = ? # 最大循环次数\n",
    "w_fit =  ? # 初始化回归系数w\n",
    "\n",
    "# 迭代100次，走100步看看能否到达山脚下\n",
    "for index in range(max_cycles):\n",
    "    z =  ? # 矩阵乘法\n",
    "    yhat =  ?  # 计算预测的y \n",
    "    loss =  ? # 损失函数\n",
    "    delta_loss = ? # 当前loss在w上的导数， 即对w求导\n",
    "    print(f\"{index}:loss={loss:.5f}, w_fit={w_fit}\")\n",
    "    w_fit = ?  # 更新w_fit\n",
    "\n",
    "print(f\"拟合出的权重为{w_fit}\")"
   ]
  },
  {
   "cell_type": "code",
   "execution_count": null,
   "metadata": {},
   "outputs": [],
   "source": [
    "# 对测试集进行测试\n",
    "z = np.dot(X_test, w_fit)  # 矩阵乘法\n",
    "yhat = 1.0/(1+np.exp(-z))   # 计算预测的y \n",
    "yhat = np.int64(yhat>0.5)  # 预测概率大于0.5视为正类（versicolor），小于0.5为负类（setosa）\n",
    "acc = np.sum((yhat - y_test)==0)/len(yhat)  # 计算准确度，即分类正确比例\n",
    "print(acc)"
   ]
  },
  {
   "cell_type": "code",
   "execution_count": null,
   "metadata": {},
   "outputs": [],
   "source": [
    "#%%  使用sklearn封装的逻辑回归\n",
    "lr = LogisticRegression()\n",
    "lr.fit(X_train, y_train)\n",
    "yhat = lr.predict(X_test)\n",
    "acc = np.sum((yhat - y_test)==0)/len(yhat)\n",
    "print(acc)"
   ]
  }
 ],
 "metadata": {
  "kernelspec": {
   "display_name": "Python 3",
   "language": "python",
   "name": "python3"
  },
  "language_info": {
   "codemirror_mode": {
    "name": "ipython",
    "version": 3
   },
   "file_extension": ".py",
   "mimetype": "text/x-python",
   "name": "python",
   "nbconvert_exporter": "python",
   "pygments_lexer": "ipython3",
   "version": "3.7.8"
  }
 },
 "nbformat": 4,
 "nbformat_minor": 4
}
