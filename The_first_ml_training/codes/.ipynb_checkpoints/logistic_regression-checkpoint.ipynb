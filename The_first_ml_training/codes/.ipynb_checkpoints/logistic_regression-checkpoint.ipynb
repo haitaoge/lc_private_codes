{
 "cells": [
  {
   "cell_type": "code",
   "execution_count": 13,
   "metadata": {},
   "outputs": [],
   "source": [
    "# 导入相应的包\n",
    "import numpy as np\n",
    "import matplotlib.pyplot as plt"
   ]
  },
  {
   "cell_type": "code",
   "execution_count": 22,
   "metadata": {},
   "outputs": [],
   "source": [
    "# 生成训练数据集\n",
    "n_sample = 1000\n",
    "np.random.seed(666)\n",
    "x = np.random.randn(n_sample,2)  #随机生成1000行2列的数, 作为自变量\n",
    "w_true = np.array([0.3,0.9])  # 自定义系数W=0.5\n",
    "# z = np.dot(x,w_true)  # 矩阵乘法，等价于w*x+b\n",
    "y_true = 1.0/(1+np.exp(-np.dot(x,w_true)))  # y = 1/（1+exp(-w*x))"
   ]
  },
  {
   "cell_type": "code",
   "execution_count": 23,
   "metadata": {},
   "outputs": [
    {
     "data": {
      "text/plain": [
       "Text(0, 0.5, 'y')"
      ]
     },
     "execution_count": 23,
     "metadata": {},
     "output_type": "execute_result"
    },
    {
     "data": {
      "image/png": "[encoded data removed]",
      "text/plain": [
       "<Figure size 432x288 with 1 Axes>"
      ]
     },
     "metadata": {
      "needs_background": "light"
     },
     "output_type": "display_data"
    }
   ],
   "source": [
    "# 查看x和y的关系\n",
    "plt.scatter(z, y_true)\n",
    "plt.xlabel(\"x\")\n",
    "plt.ylabel(\"y\")"
   ]
  },
  {
   "cell_type": "code",
   "execution_count": 25,
   "metadata": {},
   "outputs": [],
   "source": [
    "# 开始机器学习\n",
    "alpha = 1 # 学习率，每一步走多远\n",
    "max_cycles = 100 # 最大循环次数,最多走多少步去山脚下\n",
    "w_fit = [1,10]  # 初始化回归系数w\n",
    "z = np.dot(x,w_fit)  # 矩阵乘法，等价于w*x+b\n",
    "yhat = 1.0/(1+np.exp(-z))   # y = 1/（1+exp(-w*x+b)）"
   ]
  },
  {
   "cell_type": "markdown",
   "metadata": {},
   "source": [
    "**<font size=5>1,J(w) = (-1/n_sample)*(np.sum((y_true*np.log(yhat)) + ((1-y_true)*(np.log(1-yhat)))))**</font>    \n",
    "![](./img/loss_logisticregression.png)\n",
    "---"
   ]
  },
  {
   "cell_type": "markdown",
   "metadata": {},
   "source": [
    "**<font size=5> 2,J(w)' = (1/n_sample)*(np.dot(x.T, (yhat-y_true).T))**</font>    \n",
    "![](./img/delta_loss_logisticregression.png)\n",
    "---"
   ]
  },
  {
   "cell_type": "markdown",
   "metadata": {},
   "source": [
    "**<font size=5>3,w_fit = w_fit - alpha * delta_loss**</font>  \n",
    "![](./img/update.png)"
   ]
  },
  {
   "cell_type": "code",
   "execution_count": 26,
   "metadata": {},
   "outputs": [
    {
     "name": "stdout",
     "output_type": "stream",
     "text": [
      "0:loss=2.12887, w_fit=[1, 10]\n",
      "1:loss=2.08808, w_fit=[1.01190179 9.79829116]\n",
      "2:loss=2.04745, w_fit=[1.02274884 9.59690741]\n",
      "3:loss=2.00698, w_fit=[1.03255333 9.39586598]\n",
      "4:loss=1.96667, w_fit=[1.04132582 9.19518557]\n",
      "5:loss=1.92653, w_fit=[1.04907514 8.99488643]\n",
      "6:loss=1.88658, w_fit=[1.05580842 8.79499058]\n",
      "7:loss=1.84680, w_fit=[1.06153098 8.59552189]\n",
      "8:loss=1.80722, w_fit=[1.06624634 8.39650634]\n",
      "9:loss=1.76785, w_fit=[1.06995629 8.19797209]\n",
      "10:loss=1.72868, w_fit=[1.07266085 7.99994979]\n",
      "11:loss=1.68974, w_fit=[1.0743584  7.80247269]\n",
      "12:loss=1.65103, w_fit=[1.07504578 7.60557692]\n",
      "13:loss=1.61257, w_fit=[1.07471842 7.4093017 ]\n",
      "14:loss=1.57437, w_fit=[1.0733705  7.21368962]\n",
      "15:loss=1.53645, w_fit=[1.07099523 7.0187869 ]\n",
      "16:loss=1.49882, w_fit=[1.06758502 6.82464369]\n",
      "17:loss=1.46151, w_fit=[1.06313182 6.63131442]\n",
      "18:loss=1.42453, w_fit=[1.05762743 6.43885813]\n",
      "19:loss=1.38789, w_fit=[1.0510639  6.24733887]\n",
      "20:loss=1.35164, w_fit=[1.04343385 6.05682617]\n",
      "21:loss=1.31578, w_fit=[1.034731   5.86739544]\n",
      "22:loss=1.28035, w_fit=[1.02495059 5.67912853]\n",
      "23:loss=1.24538, w_fit=[1.01408995 5.49211428]\n",
      "24:loss=1.21089, w_fit=[1.00214902 5.30644914]\n",
      "25:loss=1.17692, w_fit=[0.989131   5.12223779]\n",
      "26:loss=1.14351, w_fit=[0.97504303 4.93959391]\n",
      "27:loss=1.11069, w_fit=[0.95989689 4.75864091]\n",
      "28:loss=1.07851, w_fit=[0.94370977 4.57951274]\n",
      "29:loss=1.04701, w_fit=[0.92650511 4.4023548 ]\n",
      "30:loss=1.01623, w_fit=[0.90831341 4.22732478]\n",
      "31:loss=0.98623, w_fit=[0.88917307 4.05459365]\n",
      "32:loss=0.95706, w_fit=[0.86913117 3.88434653]\n",
      "33:loss=0.92878, w_fit=[0.84824428 3.71678367]\n",
      "34:loss=0.90144, w_fit=[0.82657902 3.55212118]\n",
      "35:loss=0.87511, w_fit=[0.80421258 3.39059177]\n",
      "36:loss=0.84985, w_fit=[0.78123298 3.23244506]\n",
      "37:loss=0.82572, w_fit=[0.75773915 3.07794762]\n",
      "38:loss=0.80279, w_fit=[0.73384064 2.92738237]\n",
      "39:loss=0.78112, w_fit=[0.70965702 2.78104724]\n",
      "40:loss=0.76076, w_fit=[0.68531696 2.63925276]\n",
      "41:loss=0.74176, w_fit=[0.66095684 2.5023185 ]\n",
      "42:loss=0.72418, w_fit=[0.63671891 2.37056803]\n",
      "43:loss=0.70803, w_fit=[0.61274907 2.24432222]\n",
      "44:loss=0.69334, w_fit=[0.58919413 2.12389095]\n",
      "45:loss=0.68010, w_fit=[0.56619872 2.00956333]\n",
      "46:loss=0.66831, w_fit=[0.5439019  1.90159661]\n",
      "47:loss=0.65791, w_fit=[0.52243356 1.80020469]\n",
      "48:loss=0.64886, w_fit=[0.50191087 1.70554666]\n",
      "49:loss=0.64108, w_fit=[0.48243494 1.61771676]\n",
      "50:loss=0.63446, w_fit=[0.46408804 1.5367365 ]\n",
      "51:loss=0.62892, w_fit=[0.44693147 1.46255012]\n",
      "52:loss=0.62433, w_fit=[0.43100443 1.39502383]\n",
      "53:loss=0.62058, w_fit=[0.41632389 1.33394931]\n",
      "54:loss=0.61756, w_fit=[0.40288547 1.27905107]\n",
      "55:loss=0.61514, w_fit=[0.39066529 1.229997  ]\n",
      "56:loss=0.61324, w_fit=[0.37962252 1.18641109]\n",
      "57:loss=0.61175, w_fit=[0.36970245 1.14788729]\n",
      "58:loss=0.61060, w_fit=[0.36083975 1.11400306]\n",
      "59:loss=0.60971, w_fit=[0.35296178 1.08433202]\n",
      "60:loss=0.60904, w_fit=[0.34599156 1.05845479]\n",
      "61:loss=0.60853, w_fit=[0.33985052 1.03596771]\n",
      "62:loss=0.60815, w_fit=[0.33446064 1.0164894 ]\n",
      "63:loss=0.60787, w_fit=[0.32974632 0.99966518]\n",
      "64:loss=0.60766, w_fit=[0.32563558 0.98516962]\n",
      "65:loss=0.60750, w_fit=[0.32206103 0.97270759]\n",
      "66:loss=0.60739, w_fit=[0.31896037 0.96201408]\n",
      "67:loss=0.60730, w_fit=[0.31627666 0.95285312]\n",
      "68:loss=0.60724, w_fit=[0.31395835 0.94501617]\n",
      "69:loss=0.60719, w_fit=[0.31195916 0.93831997]\n",
      "70:loss=0.60716, w_fit=[0.31023782 0.93260443]\n",
      "71:loss=0.60714, w_fit=[0.30875772 0.92773026]\n",
      "72:loss=0.60712, w_fit=[0.30748661 0.92357673]\n",
      "73:loss=0.60711, w_fit=[0.30639616 0.92003959]\n",
      "74:loss=0.60710, w_fit=[0.3054616  0.91702899]\n",
      "75:loss=0.60709, w_fit=[0.30466132 0.91446774]\n",
      "76:loss=0.60709, w_fit=[0.30397657 0.91228961]\n",
      "77:loss=0.60708, w_fit=[0.30339106 0.91043792]\n",
      "78:loss=0.60708, w_fit=[0.30289072 0.90886417]\n",
      "79:loss=0.60708, w_fit=[0.30246341 0.90752695]\n",
      "80:loss=0.60708, w_fit=[0.30209864 0.90639094]\n",
      "81:loss=0.60708, w_fit=[0.3017874  0.90542601]\n",
      "82:loss=0.60708, w_fit=[0.30152195 0.90460652]\n",
      "83:loss=0.60708, w_fit=[0.30129563 0.90391061]\n",
      "84:loss=0.60707, w_fit=[0.30110273 0.90331972]\n",
      "85:loss=0.60707, w_fit=[0.30093838 0.90281802]\n",
      "86:loss=0.60707, w_fit=[0.30079839 0.90239209]\n",
      "87:loss=0.60707, w_fit=[0.30067917 0.9020305 ]\n",
      "88:loss=0.60707, w_fit=[0.30057767 0.90172354]\n",
      "89:loss=0.60707, w_fit=[0.30049127 0.90146297]\n",
      "90:loss=0.60707, w_fit=[0.30041774 0.90124178]\n",
      "91:loss=0.60707, w_fit=[0.30035518 0.90105403]\n",
      "92:loss=0.60707, w_fit=[0.30030195 0.90089466]\n",
      "93:loss=0.60707, w_fit=[0.30025668 0.90075939]\n",
      "94:loss=0.60707, w_fit=[0.30021817 0.90064456]\n",
      "95:loss=0.60707, w_fit=[0.30018542 0.9005471 ]\n",
      "96:loss=0.60707, w_fit=[0.30015758 0.90046438]\n",
      "97:loss=0.60707, w_fit=[0.30013391 0.90039417]\n",
      "98:loss=0.60707, w_fit=[0.30011378 0.90033457]\n",
      "99:loss=0.60707, w_fit=[0.30009668 0.90028398]\n",
      "拟合出的权重为[0.30008214 0.90024105]\n"
     ]
    }
   ],
   "source": [
    "# 迭代100次，走100步看看能否到达山脚下\n",
    "for index in range(max_cycles):\n",
    "    z = np.dot(x,w_fit)  # 矩阵乘法\n",
    "    yhat = 1.0/(1+np.exp(-z))   # 计算预测的y \n",
    "    loss = (-1/n_sample)*(np.sum((y_true*np.log(yhat)) + ((1-y_true)*(np.log(1-yhat)))))  # 损失函数\n",
    "    delta_loss = (1/n_sample)*(np.dot(x.T, (yhat-y_true).T)) # 当前loss在w上的导数， 即对w求导\n",
    "    print(f\"{index}:loss={loss:.5f}, w_fit={w_fit}\")\n",
    "    w_fit = w_fit - alpha * delta_loss.T  # 更新w_fit\n",
    "\n",
    "print(f\"拟合出的权重为{w_fit}\")"
   ]
  },
  {
   "cell_type": "code",
   "execution_count": null,
   "metadata": {},
   "outputs": [],
   "source": []
  }
 ],
 "metadata": {
  "kernelspec": {
   "display_name": "Python 3",
   "language": "python",
   "name": "python3"
  },
  "language_info": {
   "codemirror_mode": {
    "name": "ipython",
    "version": 3
   },
   "file_extension": ".py",
   "mimetype": "text/x-python",
   "name": "python",
   "nbconvert_exporter": "python",
   "pygments_lexer": "ipython3",
   "version": "3.7.8"
  }
 },
 "nbformat": 4,
 "nbformat_minor": 4
}
