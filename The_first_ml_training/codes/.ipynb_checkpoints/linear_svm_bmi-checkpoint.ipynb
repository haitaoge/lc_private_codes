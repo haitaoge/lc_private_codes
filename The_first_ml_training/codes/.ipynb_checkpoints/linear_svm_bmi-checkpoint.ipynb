{
 "cells": [
  {
   "cell_type": "code",
   "execution_count": 20,
   "metadata": {},
   "outputs": [],
   "source": [
    "\"\"\"\n",
    "Created on Fri Dec 11 11:55:30 2020\n",
    "使用支持向量机分类算法，根据身高和体重来判断是否为肥胖\n",
    "肥胖的金标准为bmi > 28\n",
    "@author: Li Chao\n",
    "\"\"\"\n",
    "\n",
    "# 导入相应的包\n",
    "import numpy as np\n",
    "import pandas as pd\n",
    "import matplotlib.pyplot as plt\n",
    "from sklearn.svm import  LinearSVC"
   ]
  },
  {
   "cell_type": "code",
   "execution_count": 4,
   "metadata": {},
   "outputs": [
    {
     "data": {
      "text/html": [
       "<div>\n",
       "<style scoped>\n",
       "    .dataframe tbody tr th:only-of-type {\n",
       "        vertical-align: middle;\n",
       "    }\n",
       "\n",
       "    .dataframe tbody tr th {\n",
       "        vertical-align: top;\n",
       "    }\n",
       "\n",
       "    .dataframe thead th {\n",
       "        text-align: right;\n",
       "    }\n",
       "</style>\n",
       "<table border=\"1\" class=\"dataframe\">\n",
       "  <thead>\n",
       "    <tr style=\"text-align: right;\">\n",
       "      <th></th>\n",
       "      <th>肥胖</th>\n",
       "      <th>身高</th>\n",
       "      <th>体重</th>\n",
       "    </tr>\n",
       "  </thead>\n",
       "  <tbody>\n",
       "    <tr>\n",
       "      <th>0</th>\n",
       "      <td>0</td>\n",
       "      <td>1.700437</td>\n",
       "      <td>37.146278</td>\n",
       "    </tr>\n",
       "    <tr>\n",
       "      <th>1</th>\n",
       "      <td>0</td>\n",
       "      <td>1.844187</td>\n",
       "      <td>93.263398</td>\n",
       "    </tr>\n",
       "    <tr>\n",
       "      <th>2</th>\n",
       "      <td>1</td>\n",
       "      <td>1.676514</td>\n",
       "      <td>87.870934</td>\n",
       "    </tr>\n",
       "    <tr>\n",
       "      <th>3</th>\n",
       "      <td>0</td>\n",
       "      <td>1.727858</td>\n",
       "      <td>63.540289</td>\n",
       "    </tr>\n",
       "    <tr>\n",
       "      <th>4</th>\n",
       "      <td>0</td>\n",
       "      <td>1.951458</td>\n",
       "      <td>7.311182</td>\n",
       "    </tr>\n",
       "    <tr>\n",
       "      <th>5</th>\n",
       "      <td>1</td>\n",
       "      <td>1.012703</td>\n",
       "      <td>84.731036</td>\n",
       "    </tr>\n",
       "    <tr>\n",
       "      <th>6</th>\n",
       "      <td>1</td>\n",
       "      <td>1.413588</td>\n",
       "      <td>85.063229</td>\n",
       "    </tr>\n",
       "    <tr>\n",
       "      <th>7</th>\n",
       "      <td>1</td>\n",
       "      <td>1.048813</td>\n",
       "      <td>33.730248</td>\n",
       "    </tr>\n",
       "    <tr>\n",
       "      <th>8</th>\n",
       "      <td>1</td>\n",
       "      <td>1.099929</td>\n",
       "      <td>64.449643</td>\n",
       "    </tr>\n",
       "    <tr>\n",
       "      <th>9</th>\n",
       "      <td>1</td>\n",
       "      <td>1.508066</td>\n",
       "      <td>83.302610</td>\n",
       "    </tr>\n",
       "  </tbody>\n",
       "</table>\n",
       "</div>"
      ],
      "text/plain": [
       "   肥胖        身高         体重\n",
       "0   0  1.700437  37.146278\n",
       "1   0  1.844187  93.263398\n",
       "2   1  1.676514  87.870934\n",
       "3   0  1.727858  63.540289\n",
       "4   0  1.951458   7.311182\n",
       "5   1  1.012703  84.731036\n",
       "6   1  1.413588  85.063229\n",
       "7   1  1.048813  33.730248\n",
       "8   1  1.099929  64.449643\n",
       "9   1  1.508066  83.302610"
      ]
     },
     "execution_count": 4,
     "metadata": {},
     "output_type": "execute_result"
    }
   ],
   "source": [
    "# 生成训练数据集\n",
    "np.random.seed(666)\n",
    "height_train = np.random.random(200) + 1 # 200个人的身高\n",
    "weight_train = np.random.random(200)*100  # 200个人的体重\n",
    "x_train = np.vstack([height_train, weight_train]).T  # 将身高和体重拼接成两列，即一个人2个特征\n",
    "bmi_train = np.array(weight_train)/np.power(height_train,2)  # 计算BMI\n",
    "y_train = np.int64(bmi_train > 28)  # BMI大于28为肥胖\n",
    "\n",
    "# 生成测试集\n",
    "np.random.seed(888)\n",
    "height_test = np.random.random(100) + 1 # 100人的身高\n",
    "weight_test = np.random.random(100)*100  # 100个人体重\n",
    "x_test = np.vstack([height_test, weight_test]).T # 将身高和体重拼接成两列，即一个人2个特征\n",
    "bmi_test = np.array(weight_test)/np.power(height_test,2)  # 计算BMI\n",
    "y_test = np.int64(bmi_test > 28)  # BMI大于28为肥胖\n",
    "\n",
    "# 查看训练集数据\n",
    "x_train_ = pd.concat([pd.DataFrame(y_train), pd.DataFrame(x_train)], axis=1)\n",
    "x_train_.columns = [\"肥胖\",\"身高\",\"体重\"]\n",
    "x_train_.head(10)"
   ]
  },
  {
   "cell_type": "code",
   "execution_count": 21,
   "metadata": {},
   "outputs": [
    {
     "name": "stderr",
     "output_type": "stream",
     "text": [
      "d:\\my_codes\\virtualenv_eslearn\\lib\\site-packages\\sklearn\\svm\\_base.py:977: ConvergenceWarning: Liblinear failed to converge, increase the number of iterations.\n",
      "  \"the number of iterations.\", ConvergenceWarning)\n"
     ]
    },
    {
     "data": {
      "text/plain": [
       "LinearSVC()"
      ]
     },
     "execution_count": 21,
     "metadata": {},
     "output_type": "execute_result"
    }
   ],
   "source": [
    "# 训练模型： 直接使用sklearn封装好的SVM分类器\n",
    "svm = LinearSVC(max_iter=1000)  # 实例化\n",
    "svm.fit(x_train, y_train)  # 调用svm对象的fit方法"
   ]
  },
  {
   "cell_type": "code",
   "execution_count": 25,
   "metadata": {},
   "outputs": [
    {
     "name": "stdout",
     "output_type": "stream",
     "text": [
      "[[-2.34492896]\n",
      " [-1.96130991]\n",
      " [-1.9061509 ]\n",
      " [-2.60871307]\n",
      " [-0.45753843]\n",
      " [-0.24887373]\n",
      " [-1.78186048]\n",
      " [-0.30108337]\n",
      " [-1.1728248 ]\n",
      " [-0.07614281]\n",
      " [-1.46860704]\n",
      " [ 0.02250168]\n",
      " [-1.05639011]\n",
      " [ 0.94526081]\n",
      " [-2.88480747]\n",
      " [-1.22703507]\n",
      " [-1.97295688]\n",
      " [-0.18967055]\n",
      " [-2.04498258]\n",
      " [-0.91818073]\n",
      " [-1.37988845]\n",
      " [ 0.78632118]\n",
      " [-1.59461571]\n",
      " [-2.92570177]\n",
      " [-0.66116856]\n",
      " [ 0.80024373]\n",
      " [ 0.18604465]\n",
      " [ 0.35433636]\n",
      " [ 0.18305941]\n",
      " [-1.48586484]\n",
      " [ 1.53168271]\n",
      " [-1.78208883]\n",
      " [-1.81066365]\n",
      " [-1.2604158 ]\n",
      " [-2.20195412]\n",
      " [-2.35222857]\n",
      " [ 0.71338109]\n",
      " [-0.7995299 ]\n",
      " [-0.50009453]\n",
      " [ 0.12723359]\n",
      " [-0.11288614]\n",
      " [ 0.86286304]\n",
      " [-2.5265782 ]\n",
      " [-1.31276448]\n",
      " [ 0.75349752]\n",
      " [ 1.37610289]\n",
      " [-0.16519678]\n",
      " [ 0.69866299]\n",
      " [-0.4304835 ]\n",
      " [-0.2041962 ]\n",
      " [-1.34793173]\n",
      " [-1.11130428]\n",
      " [ 0.14627957]\n",
      " [-2.2417498 ]\n",
      " [ 1.03739579]\n",
      " [-3.14380642]\n",
      " [-0.50236665]\n",
      " [-1.78069444]\n",
      " [-2.54711915]\n",
      " [ 0.4946215 ]\n",
      " [-1.19988378]\n",
      " [-0.9005808 ]\n",
      " [-2.26185079]\n",
      " [-2.26108328]\n",
      " [ 0.32881403]\n",
      " [-2.33220862]\n",
      " [-0.32765705]\n",
      " [ 0.01333667]\n",
      " [-1.07021358]\n",
      " [-2.17247437]\n",
      " [ 0.34163144]\n",
      " [-3.45612536]\n",
      " [-1.41562507]\n",
      " [-1.00129464]\n",
      " [-0.19165354]\n",
      " [-1.83369674]\n",
      " [ 1.17790056]\n",
      " [-2.33474445]\n",
      " [-1.0842133 ]\n",
      " [-1.76867418]\n",
      " [-0.45959324]\n",
      " [-2.82983739]\n",
      " [ 0.38307451]\n",
      " [-1.93079128]\n",
      " [-1.65666744]\n",
      " [-0.07333472]\n",
      " [-1.01684947]\n",
      " [-1.86677933]\n",
      " [-2.09982788]\n",
      " [-0.26417984]\n",
      " [ 0.97295024]\n",
      " [-0.41741631]\n",
      " [-1.88540981]\n",
      " [-0.12785279]\n",
      " [-1.62381813]\n",
      " [ 0.87628789]\n",
      " [-0.00527463]\n",
      " [-0.2188099 ]\n",
      " [-1.398482  ]\n",
      " [-1.23615247]]\n",
      "[[-2.15544999  0.0349529 ]]\n",
      "[0.54258766]\n"
     ]
    }
   ],
   "source": [
    "# 测试\n",
    "w = svm.coef_  # 获取模型的权重\n",
    "b = svm.intercept_  # 获取模型的截距\n",
    "pred_value = np.dot(x_test, w.T) + b  # 各个样本点的预测分数 y = w*x +b\n",
    "print(pred_value)\n",
    "print(w)\n",
    "print(b)\n",
    "\n",
    "y_pred = np.int64(pred_value > 0)  # 预测值大于0，即说明其为正类\n",
    "y_pred = y_pred.reshape(-1,)  # Reshape, 将y_pred 变为1维度\n",
    "acc = np.sum((y_pred-y_test)==0)/len(y_test)  # 计算准确度，即正确分类的比例\n",
    "print(f\"测试集的准确度={acc:.3f}\")"
   ]
  },
  {
   "cell_type": "code",
   "execution_count": 14,
   "metadata": {},
   "outputs": [
    {
     "name": "stdout",
     "output_type": "stream",
     "text": [
      "[[-0.64834024  0.23271543 -0.92732847  1.0056563 ]\n",
      " [ 0.66105328  0.7233109  -0.54402224 -0.53700111]\n",
      " [ 0.69133885 -1.12059121 -0.97087181  0.34273636]\n",
      " [ 0.73938653 -0.53383597 -0.1141609  -0.68383012]]\n"
     ]
    },
    {
     "data": {
      "text/plain": [
       "array([[-0.64834024,  0.23271543],\n",
       "       [-0.92732847,  1.0056563 ],\n",
       "       [ 0.66105328,  0.7233109 ],\n",
       "       [-0.54402224, -0.53700111],\n",
       "       [ 0.69133885, -1.12059121],\n",
       "       [-0.97087181,  0.34273636],\n",
       "       [ 0.73938653, -0.53383597],\n",
       "       [-0.1141609 , -0.68383012]])"
      ]
     },
     "execution_count": 14,
     "metadata": {},
     "output_type": "execute_result"
    }
   ],
   "source": [
    "data = np.random.randn(4,4)\n",
    "print(data)\n",
    "np.reshape(data,[-1,2])"
   ]
  },
  {
   "cell_type": "code",
   "execution_count": 16,
   "metadata": {},
   "outputs": [
    {
     "name": "stderr",
     "output_type": "stream",
     "text": [
      "d:\\my_codes\\virtualenv_eslearn\\lib\\site-packages\\ipykernel_launcher.py:18: MatplotlibDeprecationWarning: shading='flat' when X and Y have the same dimensions as C is deprecated since 3.3.  Either specify the corners of the quadrilaterals with X and Y, or pass shading='auto', 'nearest' or 'gouraud', or set rcParams['pcolor.shading'].  This will become an error two minor releases later.\n"
     ]
    },
    {
     "data": {
      "image/png": "[encoded data removed]",
      "text/plain": [
       "<Figure size 432x288 with 1 Axes>"
      ]
     },
     "metadata": {
      "needs_background": "light"
     },
     "output_type": "display_data"
    }
   ],
   "source": [
    "# 画出SVM分类情况\n",
    "plt.figure()\n",
    "plt.clf()\n",
    "plt.scatter(x_train[:, 0], x_train[:, 1], c=y_train, zorder=500, cmap=plt.cm.Paired,\n",
    "            edgecolor='k', s=20)\n",
    "\n",
    "plt.axis('tight')\n",
    "x_min = x_train[:, 0].min()\n",
    "x_max = x_train[:, 0].max()\n",
    "y_min = x_train[:, 1].min()\n",
    "y_max = x_train[:, 1].max()\n",
    "\n",
    "XX, YY = np.mgrid[x_min:x_max:200j, y_min:y_max:200j]\n",
    "Z = svm.decision_function(np.c_[XX.ravel(), YY.ravel()])\n",
    "\n",
    "# Put the result into a color plot\n",
    "Z = Z.reshape(XX.shape)\n",
    "plt.pcolormesh(XX, YY, Z > 0, cmap=plt.cm.Paired)\n",
    "plt.contour(XX, YY, Z, colors=['k', 'k', 'k'],\n",
    "            linestyles=['--', '-', '--'], levels=[-.5, 0, .5])\n",
    "\n",
    "plt.show()"
   ]
  },
  {
   "cell_type": "code",
   "execution_count": null,
   "metadata": {},
   "outputs": [],
   "source": []
  }
 ],
 "metadata": {
  "kernelspec": {
   "display_name": "Python 3",
   "language": "python",
   "name": "python3"
  },
  "language_info": {
   "codemirror_mode": {
    "name": "ipython",
    "version": 3
   },
   "file_extension": ".py",
   "mimetype": "text/x-python",
   "name": "python",
   "nbconvert_exporter": "python",
   "pygments_lexer": "ipython3",
   "version": "3.7.8"
  }
 },
 "nbformat": 4,
 "nbformat_minor": 4
}
