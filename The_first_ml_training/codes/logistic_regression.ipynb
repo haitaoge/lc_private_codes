{
 "cells": [
  {
   "cell_type": "code",
   "execution_count": 3,
   "metadata": {},
   "outputs": [],
   "source": [
    "# 导入相应的包\n",
    "import numpy as np\n",
    "import matplotlib.pyplot as plt"
   ]
  },
  {
   "cell_type": "code",
   "execution_count": 8,
   "metadata": {},
   "outputs": [],
   "source": [
    "# 生成训练数据集\n",
    "n_sample = 1000\n",
    "np.random.seed(666)\n",
    "x = np.random.randn(n_sample,2)  #随机生成10个数, 作为自变量\n",
    "w_true = np.array([0.3,0.9])  # 自定义系数W=0.5\n",
    "z = np.dot(x,w_true)  # 矩阵乘法，等价于w*x+b\n",
    "y_true = 1.0/(1+np.exp(-z))  # y = 1/（1+exp(-w*x+b)）"
   ]
  },
  {
   "cell_type": "code",
   "execution_count": 9,
   "metadata": {},
   "outputs": [
    {
     "data": {
      "text/plain": [
       "Text(0, 0.5, 'y')"
      ]
     },
     "execution_count": 9,
     "metadata": {},
     "output_type": "execute_result"
    },
    {
     "data": {
      "image/png": "[encoded data removed]",
      "text/plain": [
       "<Figure size 432x288 with 1 Axes>"
      ]
     },
     "metadata": {
      "needs_background": "light"
     },
     "output_type": "display_data"
    }
   ],
   "source": [
    "# 查看x和y的关系\n",
    "plt.scatter(z, y_true)\n",
    "plt.xlabel(\"x\")\n",
    "plt.ylabel(\"y\")"
   ]
  },
  {
   "cell_type": "code",
   "execution_count": 2,
   "metadata": {},
   "outputs": [],
   "source": [
    "# 开始机器学习\n",
    "alpha = 1 # 学习率，每一步走多远\n",
    "max_cycles = 100 # 最大循环次数,最多走多少步去山脚下\n",
    "w_fit = [1,10]  # 初始化回归系数w\n",
    "z = np.dot(x,w_fit)  # 矩阵乘法，等价于w*x+b\n",
    "yhat = 1.0/(1+np.exp(-z))   # y = 1/（1+exp(-w*x+b)）"
   ]
  },
  {
   "cell_type": "markdown",
   "metadata": {},
   "source": [
    "**<font size=5>1,J(w) = (-1/n_sample)*(np.sum((y_true*np.log(yhat)) + ((1-y_true)*(np.log(1-yhat)))))**</font>    \n",
    "![](./img/loss_logisticregression.png)\n",
    "---"
   ]
  },
  {
   "cell_type": "markdown",
   "metadata": {},
   "source": [
    "**<font size=5> 2,J(w)' = (1/n_sample)*(np.dot(x.T, (yhat-y_true).T))**</font>    \n",
    "![](./img/delta_loss_logisticregression.png)\n",
    "---"
   ]
  },
  {
   "cell_type": "markdown",
   "metadata": {},
   "source": [
    "**<font size=5>3,w_fit = w_fit - alpha * delta_loss**</font>  \n",
    "![](./img/update.png)"
   ]
  },
  {
   "cell_type": "code",
   "execution_count": null,
   "metadata": {},
   "outputs": [],
   "source": [
    "# 迭代100次，走100步看看能否到达山脚下\n",
    "w_fit_all = []\n",
    "loss_all = []\n",
    "for index in range(max_cycles):\n",
    "    z = np.dot(x,w_fit)  # 矩阵乘法\n",
    "    yhat = 1.0/(1+np.exp(-z))   # 计算预测的y \n",
    "    loss = (-1/n_sample)*(np.sum((y_true*np.log(yhat)) + ((1-y_true)*(np.log(1-yhat)))))  # 损失函数\n",
    "    delta_loss = (1/n_sample)*(np.dot(x.T, (yhat-y_true).T)) # 当前loss在w上的导数， 即对w求导\n",
    "    print(f\"{index}:loss={loss:.5f}, w_fit={w_fit}\")\n",
    "    w_fit = w_fit - alpha * delta_loss.T  # 更新w_fit\n",
    "\n",
    "print(f\"拟合出的权重为{w_fit}\")"
   ]
  },
  {
   "cell_type": "code",
   "execution_count": null,
   "metadata": {},
   "outputs": [],
   "source": []
  }
 ],
 "metadata": {
  "kernelspec": {
   "display_name": "Python 3",
   "language": "python",
   "name": "python3"
  },
  "language_info": {
   "codemirror_mode": {
    "name": "ipython",
    "version": 3
   },
   "file_extension": ".py",
   "mimetype": "text/x-python",
   "name": "python",
   "nbconvert_exporter": "python",
   "pygments_lexer": "ipython3",
   "version": "3.7.8"
  }
 },
 "nbformat": 4,
 "nbformat_minor": 4
}
